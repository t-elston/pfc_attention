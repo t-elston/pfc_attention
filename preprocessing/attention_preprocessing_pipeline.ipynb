{
 "cells": [
  {
   "cell_type": "code",
   "execution_count": 1,
   "metadata": {},
   "outputs": [
    {
     "data": {
      "text/plain": [
       "<module 'attention_preprocessing_functions' from '/Users/thomaselston/Documents/PYTHON/Attention/preprocessing/attention_preprocessing_functions.py'>"
      ]
     },
     "execution_count": 1,
     "metadata": {},
     "output_type": "execute_result"
    }
   ],
   "source": [
    "import attention_preprocessing_functions as prep\n",
    "from pathlib import Path\n",
    "import importlib\n",
    "importlib.reload(prep)"
   ]
  },
  {
   "cell_type": "code",
   "execution_count": 2,
   "metadata": {},
   "outputs": [],
   "source": [
    "# path to high level folder containing all raw data for this recording\n",
    "base_folder = '/Volumes/Desk SSD/Attention Task (Speed vs Direction)/K20241028_Rec00_g0/' # highest level folder for this recording\n",
    "\n",
    "# where is the NPX channel map stored?\n",
    "chan_map = '/Users/thomaselston/Documents/PYTHON/Attention/preprocessing/NHP_NPX_chanmap.csv'\n",
    "\n",
    "# where do we want the final data for this run to save?\n",
    "save_dir = '/Users/thomaselston/Documents/PYTHON/Attention/preprocessed_data/'\n"
   ]
  },
  {
   "cell_type": "code",
   "execution_count": 3,
   "metadata": {},
   "outputs": [
    {
     "name": "stdout",
     "output_type": "stream",
     "text": [
      "Extracting trial-by-trial response and eye data.\n",
      "/Volumes/Desk SSD/Attention Task (Speed vs Direction)/K20241028_Rec00_g0//K20241028_bhv.csv\n",
      "Saved data as .csv in original directory.\n"
     ]
    }
   ],
   "source": [
    "# now extract the behavior associated with this recording\n",
    "prep.extract_behavior_from_h5(base_folder)"
   ]
  },
  {
   "cell_type": "code",
   "execution_count": null,
   "metadata": {},
   "outputs": [
    {
     "name": "stdout",
     "output_type": "stream",
     "text": [
      "524 putative units found in OFC\n"
     ]
    },
    {
     "name": "stderr",
     "output_type": "stream",
     "text": [
      "0it [00:00, ?it/s]\n"
     ]
    },
    {
     "ename": "TypeError",
     "evalue": "only length-1 arrays can be converted to Python scalars",
     "output_type": "error",
     "traceback": [
      "\u001b[0;31m---------------------------------------------------------------------------\u001b[0m",
      "\u001b[0;31mTypeError\u001b[0m                                 Traceback (most recent call last)",
      "Cell \u001b[0;32mIn[4], line 10\u001b[0m\n\u001b[1;32m      7\u001b[0m params[\u001b[38;5;124m'\u001b[39m\u001b[38;5;124mwin_size\u001b[39m\u001b[38;5;124m'\u001b[39m] \u001b[38;5;241m=\u001b[39m \u001b[38;5;241m100\u001b[39m\n\u001b[1;32m      8\u001b[0m params[\u001b[38;5;124m'\u001b[39m\u001b[38;5;124malign_event\u001b[39m\u001b[38;5;124m'\u001b[39m] \u001b[38;5;241m=\u001b[39m \u001b[38;5;241m12\u001b[39m\n\u001b[0;32m---> 10\u001b[0m prep\u001b[38;5;241m.\u001b[39mmake_spike_and_LFP_tables_and_combine_data(base_folder, save_dir, chan_map, params, ks_version\u001b[38;5;241m=\u001b[39m\u001b[38;5;241m4\u001b[39m)\n",
      "File \u001b[0;32m~/Documents/PYTHON/Attention/preprocessing/attention_preprocessing_functions.py:408\u001b[0m, in \u001b[0;36mmake_spike_and_LFP_tables_and_combine_data\u001b[0;34m(base_folder, save_dir, chan_map, params, ks_version)\u001b[0m\n\u001b[1;32m    405\u001b[0m         \u001b[38;5;66;03m# make a spike table if a choice was presented (40 is the event code for pics on)\u001b[39;00m\n\u001b[1;32m    406\u001b[0m         \u001b[38;5;28;01mif\u001b[39;00m np\u001b[38;5;241m.\u001b[39many(trial_events[:,\u001b[38;5;241m0\u001b[39m] \u001b[38;5;241m==\u001b[39m align_event):\n\u001b[0;32m--> 408\u001b[0m             pics_on_time \u001b[38;5;241m=\u001b[39m \u001b[38;5;28mint\u001b[39m(trial_events[np\u001b[38;5;241m.\u001b[39margwhere(trial_events[:,\u001b[38;5;241m0\u001b[39m] \u001b[38;5;241m==\u001b[39m align_event)\u001b[38;5;241m.\u001b[39mflatten(), \u001b[38;5;241m1\u001b[39m])\n\u001b[1;32m    409\u001b[0m             dense_FR[t,:,u_ix] \u001b[38;5;241m=\u001b[39m u_spike_train[pics_on_time \u001b[38;5;241m-\u001b[39m t_offset_before : pics_on_time \u001b[38;5;241m+\u001b[39m t_offset_after]\n\u001b[1;32m    412\u001b[0m firing_rates, ts \u001b[38;5;241m=\u001b[39m window_smooth(win_size, step_size, dense_FR, np\u001b[38;5;241m.\u001b[39marange(\u001b[38;5;241m-\u001b[39m\u001b[38;5;241m1\u001b[39m\u001b[38;5;241m*\u001b[39mt_offset_before, t_offset_after), \u001b[38;5;241m1000\u001b[39m)\n",
      "\u001b[0;31mTypeError\u001b[0m: only length-1 arrays can be converted to Python scalars"
     ]
    }
   ],
   "source": [
    "# now run extract the spikes and save everything\n",
    "params = {}\n",
    "params['t_offset_before'] = 2000\n",
    "params['t_offset_after'] = 1025\n",
    "params['lfp_offset'] = 1500\n",
    "params['step_size'] = 25\n",
    "params['win_size'] = 100\n",
    "params['align_event'] = 14\n",
    "\n",
    "prep.make_spike_and_LFP_tables_and_combine_data(base_folder, save_dir, chan_map, params, ks_version=4)"
   ]
  }
 ],
 "metadata": {
  "kernelspec": {
   "display_name": "base",
   "language": "python",
   "name": "python3"
  },
  "language_info": {
   "codemirror_mode": {
    "name": "ipython",
    "version": 3
   },
   "file_extension": ".py",
   "mimetype": "text/x-python",
   "name": "python",
   "nbconvert_exporter": "python",
   "pygments_lexer": "ipython3",
   "version": "3.12.4"
  }
 },
 "nbformat": 4,
 "nbformat_minor": 2
}
